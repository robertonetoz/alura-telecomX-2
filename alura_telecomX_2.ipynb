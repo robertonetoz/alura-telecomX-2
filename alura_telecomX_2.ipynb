{
  "nbformat": 4,
  "nbformat_minor": 0,
  "metadata": {
    "colab": {
      "provenance": [],
      "collapsed_sections": [
        "IIKbhE00Zmla",
        "CqnAKsfpZ23M",
        "JsO4DcQEdsQH",
        "HxEemzZGfPwc"
      ]
    },
    "kernelspec": {
      "name": "python3",
      "display_name": "Python 3"
    },
    "language_info": {
      "name": "python"
    }
  },
  "cells": [
    {
      "cell_type": "markdown",
      "source": [
        "# Preparação dos Dados"
      ],
      "metadata": {
        "id": "IIKbhE00Zmla"
      }
    },
    {
      "cell_type": "code",
      "execution_count": 3,
      "metadata": {
        "id": "OPCMZqCsX9s2"
      },
      "outputs": [],
      "source": [
        "import pandas as pd\n",
        "import numpy as np"
      ]
    },
    {
      "cell_type": "code",
      "source": [
        "df = pd.read_csv(\"telecomx_limpo.csv\")"
      ],
      "metadata": {
        "id": "EaSymjgXYLRC"
      },
      "execution_count": 4,
      "outputs": []
    },
    {
      "cell_type": "code",
      "source": [
        "print(\"Dimensão inicial:\", df.shape)\n",
        "df.head()"
      ],
      "metadata": {
        "colab": {
          "base_uri": "https://localhost:8080/",
          "height": 342
        },
        "id": "41neTDLCYLXq",
        "outputId": "a176b34c-c278-4385-d884-029eeeef9665"
      },
      "execution_count": 5,
      "outputs": [
        {
          "output_type": "stream",
          "name": "stdout",
          "text": [
            "Dimensão inicial: (7267, 22)\n"
          ]
        },
        {
          "output_type": "execute_result",
          "data": {
            "text/plain": [
              "   customerID  Evasao  Genero  Idoso  customer.Partner  customer.Dependents  \\\n",
              "0  0002-ORFBO     NaN  Female      0               NaN                  NaN   \n",
              "1  0003-MKNFE     NaN    Male      0               NaN                  NaN   \n",
              "2  0004-TLHLJ     NaN    Male      0               NaN                  NaN   \n",
              "3  0011-IGKFF     NaN    Male      1               NaN                  NaN   \n",
              "4  0013-EXCHZ     NaN  Female      1               NaN                  NaN   \n",
              "\n",
              "   Meses_como_cliente  phone.PhoneService  phone.MultipleLines  \\\n",
              "0                   9                 NaN                  NaN   \n",
              "1                   9                 NaN                  NaN   \n",
              "2                   4                 NaN                  NaN   \n",
              "3                  13                 NaN                  NaN   \n",
              "4                   3                 NaN                  NaN   \n",
              "\n",
              "  internet.InternetService  ... internet.DeviceProtection  \\\n",
              "0                      DSL  ...                        No   \n",
              "1                      DSL  ...                        No   \n",
              "2              Fiber optic  ...                       Yes   \n",
              "3              Fiber optic  ...                       Yes   \n",
              "4              Fiber optic  ...                        No   \n",
              "\n",
              "  internet.TechSupport internet.StreamingTV internet.StreamingMovies  \\\n",
              "0                  Yes                  Yes                       No   \n",
              "1                   No                   No                      Yes   \n",
              "2                   No                   No                       No   \n",
              "3                   No                  Yes                      Yes   \n",
              "4                  Yes                  Yes                       No   \n",
              "\n",
              "  account.Contract account.PaperlessBilling account.PaymentMethod  \\\n",
              "0         One year                      NaN          Mailed check   \n",
              "1   Month-to-month                      NaN          Mailed check   \n",
              "2   Month-to-month                      NaN      Electronic check   \n",
              "3   Month-to-month                      NaN      Electronic check   \n",
              "4   Month-to-month                      NaN          Mailed check   \n",
              "\n",
              "   Faturamento_Mensal Faturamento_Total  Contas_Diarias  \n",
              "0                65.6             593.3        2.186667  \n",
              "1                59.9             542.4        1.996667  \n",
              "2                73.9            280.85        2.463333  \n",
              "3                98.0           1237.85        3.266667  \n",
              "4                83.9             267.4        2.796667  \n",
              "\n",
              "[5 rows x 22 columns]"
            ],
            "text/html": [
              "\n",
              "  <div id=\"df-d0ab323a-eec3-4259-8801-4f51053ec938\" class=\"colab-df-container\">\n",
              "    <div>\n",
              "<style scoped>\n",
              "    .dataframe tbody tr th:only-of-type {\n",
              "        vertical-align: middle;\n",
              "    }\n",
              "\n",
              "    .dataframe tbody tr th {\n",
              "        vertical-align: top;\n",
              "    }\n",
              "\n",
              "    .dataframe thead th {\n",
              "        text-align: right;\n",
              "    }\n",
              "</style>\n",
              "<table border=\"1\" class=\"dataframe\">\n",
              "  <thead>\n",
              "    <tr style=\"text-align: right;\">\n",
              "      <th></th>\n",
              "      <th>customerID</th>\n",
              "      <th>Evasao</th>\n",
              "      <th>Genero</th>\n",
              "      <th>Idoso</th>\n",
              "      <th>customer.Partner</th>\n",
              "      <th>customer.Dependents</th>\n",
              "      <th>Meses_como_cliente</th>\n",
              "      <th>phone.PhoneService</th>\n",
              "      <th>phone.MultipleLines</th>\n",
              "      <th>internet.InternetService</th>\n",
              "      <th>...</th>\n",
              "      <th>internet.DeviceProtection</th>\n",
              "      <th>internet.TechSupport</th>\n",
              "      <th>internet.StreamingTV</th>\n",
              "      <th>internet.StreamingMovies</th>\n",
              "      <th>account.Contract</th>\n",
              "      <th>account.PaperlessBilling</th>\n",
              "      <th>account.PaymentMethod</th>\n",
              "      <th>Faturamento_Mensal</th>\n",
              "      <th>Faturamento_Total</th>\n",
              "      <th>Contas_Diarias</th>\n",
              "    </tr>\n",
              "  </thead>\n",
              "  <tbody>\n",
              "    <tr>\n",
              "      <th>0</th>\n",
              "      <td>0002-ORFBO</td>\n",
              "      <td>NaN</td>\n",
              "      <td>Female</td>\n",
              "      <td>0</td>\n",
              "      <td>NaN</td>\n",
              "      <td>NaN</td>\n",
              "      <td>9</td>\n",
              "      <td>NaN</td>\n",
              "      <td>NaN</td>\n",
              "      <td>DSL</td>\n",
              "      <td>...</td>\n",
              "      <td>No</td>\n",
              "      <td>Yes</td>\n",
              "      <td>Yes</td>\n",
              "      <td>No</td>\n",
              "      <td>One year</td>\n",
              "      <td>NaN</td>\n",
              "      <td>Mailed check</td>\n",
              "      <td>65.6</td>\n",
              "      <td>593.3</td>\n",
              "      <td>2.186667</td>\n",
              "    </tr>\n",
              "    <tr>\n",
              "      <th>1</th>\n",
              "      <td>0003-MKNFE</td>\n",
              "      <td>NaN</td>\n",
              "      <td>Male</td>\n",
              "      <td>0</td>\n",
              "      <td>NaN</td>\n",
              "      <td>NaN</td>\n",
              "      <td>9</td>\n",
              "      <td>NaN</td>\n",
              "      <td>NaN</td>\n",
              "      <td>DSL</td>\n",
              "      <td>...</td>\n",
              "      <td>No</td>\n",
              "      <td>No</td>\n",
              "      <td>No</td>\n",
              "      <td>Yes</td>\n",
              "      <td>Month-to-month</td>\n",
              "      <td>NaN</td>\n",
              "      <td>Mailed check</td>\n",
              "      <td>59.9</td>\n",
              "      <td>542.4</td>\n",
              "      <td>1.996667</td>\n",
              "    </tr>\n",
              "    <tr>\n",
              "      <th>2</th>\n",
              "      <td>0004-TLHLJ</td>\n",
              "      <td>NaN</td>\n",
              "      <td>Male</td>\n",
              "      <td>0</td>\n",
              "      <td>NaN</td>\n",
              "      <td>NaN</td>\n",
              "      <td>4</td>\n",
              "      <td>NaN</td>\n",
              "      <td>NaN</td>\n",
              "      <td>Fiber optic</td>\n",
              "      <td>...</td>\n",
              "      <td>Yes</td>\n",
              "      <td>No</td>\n",
              "      <td>No</td>\n",
              "      <td>No</td>\n",
              "      <td>Month-to-month</td>\n",
              "      <td>NaN</td>\n",
              "      <td>Electronic check</td>\n",
              "      <td>73.9</td>\n",
              "      <td>280.85</td>\n",
              "      <td>2.463333</td>\n",
              "    </tr>\n",
              "    <tr>\n",
              "      <th>3</th>\n",
              "      <td>0011-IGKFF</td>\n",
              "      <td>NaN</td>\n",
              "      <td>Male</td>\n",
              "      <td>1</td>\n",
              "      <td>NaN</td>\n",
              "      <td>NaN</td>\n",
              "      <td>13</td>\n",
              "      <td>NaN</td>\n",
              "      <td>NaN</td>\n",
              "      <td>Fiber optic</td>\n",
              "      <td>...</td>\n",
              "      <td>Yes</td>\n",
              "      <td>No</td>\n",
              "      <td>Yes</td>\n",
              "      <td>Yes</td>\n",
              "      <td>Month-to-month</td>\n",
              "      <td>NaN</td>\n",
              "      <td>Electronic check</td>\n",
              "      <td>98.0</td>\n",
              "      <td>1237.85</td>\n",
              "      <td>3.266667</td>\n",
              "    </tr>\n",
              "    <tr>\n",
              "      <th>4</th>\n",
              "      <td>0013-EXCHZ</td>\n",
              "      <td>NaN</td>\n",
              "      <td>Female</td>\n",
              "      <td>1</td>\n",
              "      <td>NaN</td>\n",
              "      <td>NaN</td>\n",
              "      <td>3</td>\n",
              "      <td>NaN</td>\n",
              "      <td>NaN</td>\n",
              "      <td>Fiber optic</td>\n",
              "      <td>...</td>\n",
              "      <td>No</td>\n",
              "      <td>Yes</td>\n",
              "      <td>Yes</td>\n",
              "      <td>No</td>\n",
              "      <td>Month-to-month</td>\n",
              "      <td>NaN</td>\n",
              "      <td>Mailed check</td>\n",
              "      <td>83.9</td>\n",
              "      <td>267.4</td>\n",
              "      <td>2.796667</td>\n",
              "    </tr>\n",
              "  </tbody>\n",
              "</table>\n",
              "<p>5 rows × 22 columns</p>\n",
              "</div>\n",
              "    <div class=\"colab-df-buttons\">\n",
              "\n",
              "  <div class=\"colab-df-container\">\n",
              "    <button class=\"colab-df-convert\" onclick=\"convertToInteractive('df-d0ab323a-eec3-4259-8801-4f51053ec938')\"\n",
              "            title=\"Convert this dataframe to an interactive table.\"\n",
              "            style=\"display:none;\">\n",
              "\n",
              "  <svg xmlns=\"http://www.w3.org/2000/svg\" height=\"24px\" viewBox=\"0 -960 960 960\">\n",
              "    <path d=\"M120-120v-720h720v720H120Zm60-500h600v-160H180v160Zm220 220h160v-160H400v160Zm0 220h160v-160H400v160ZM180-400h160v-160H180v160Zm440 0h160v-160H620v160ZM180-180h160v-160H180v160Zm440 0h160v-160H620v160Z\"/>\n",
              "  </svg>\n",
              "    </button>\n",
              "\n",
              "  <style>\n",
              "    .colab-df-container {\n",
              "      display:flex;\n",
              "      gap: 12px;\n",
              "    }\n",
              "\n",
              "    .colab-df-convert {\n",
              "      background-color: #E8F0FE;\n",
              "      border: none;\n",
              "      border-radius: 50%;\n",
              "      cursor: pointer;\n",
              "      display: none;\n",
              "      fill: #1967D2;\n",
              "      height: 32px;\n",
              "      padding: 0 0 0 0;\n",
              "      width: 32px;\n",
              "    }\n",
              "\n",
              "    .colab-df-convert:hover {\n",
              "      background-color: #E2EBFA;\n",
              "      box-shadow: 0px 1px 2px rgba(60, 64, 67, 0.3), 0px 1px 3px 1px rgba(60, 64, 67, 0.15);\n",
              "      fill: #174EA6;\n",
              "    }\n",
              "\n",
              "    .colab-df-buttons div {\n",
              "      margin-bottom: 4px;\n",
              "    }\n",
              "\n",
              "    [theme=dark] .colab-df-convert {\n",
              "      background-color: #3B4455;\n",
              "      fill: #D2E3FC;\n",
              "    }\n",
              "\n",
              "    [theme=dark] .colab-df-convert:hover {\n",
              "      background-color: #434B5C;\n",
              "      box-shadow: 0px 1px 3px 1px rgba(0, 0, 0, 0.15);\n",
              "      filter: drop-shadow(0px 1px 2px rgba(0, 0, 0, 0.3));\n",
              "      fill: #FFFFFF;\n",
              "    }\n",
              "  </style>\n",
              "\n",
              "    <script>\n",
              "      const buttonEl =\n",
              "        document.querySelector('#df-d0ab323a-eec3-4259-8801-4f51053ec938 button.colab-df-convert');\n",
              "      buttonEl.style.display =\n",
              "        google.colab.kernel.accessAllowed ? 'block' : 'none';\n",
              "\n",
              "      async function convertToInteractive(key) {\n",
              "        const element = document.querySelector('#df-d0ab323a-eec3-4259-8801-4f51053ec938');\n",
              "        const dataTable =\n",
              "          await google.colab.kernel.invokeFunction('convertToInteractive',\n",
              "                                                    [key], {});\n",
              "        if (!dataTable) return;\n",
              "\n",
              "        const docLinkHtml = 'Like what you see? Visit the ' +\n",
              "          '<a target=\"_blank\" href=https://colab.research.google.com/notebooks/data_table.ipynb>data table notebook</a>'\n",
              "          + ' to learn more about interactive tables.';\n",
              "        element.innerHTML = '';\n",
              "        dataTable['output_type'] = 'display_data';\n",
              "        await google.colab.output.renderOutput(dataTable, element);\n",
              "        const docLink = document.createElement('div');\n",
              "        docLink.innerHTML = docLinkHtml;\n",
              "        element.appendChild(docLink);\n",
              "      }\n",
              "    </script>\n",
              "  </div>\n",
              "\n",
              "\n",
              "    <div id=\"df-b3ebc1c8-ad5d-42c1-85e6-a868859190af\">\n",
              "      <button class=\"colab-df-quickchart\" onclick=\"quickchart('df-b3ebc1c8-ad5d-42c1-85e6-a868859190af')\"\n",
              "                title=\"Suggest charts\"\n",
              "                style=\"display:none;\">\n",
              "\n",
              "<svg xmlns=\"http://www.w3.org/2000/svg\" height=\"24px\"viewBox=\"0 0 24 24\"\n",
              "     width=\"24px\">\n",
              "    <g>\n",
              "        <path d=\"M19 3H5c-1.1 0-2 .9-2 2v14c0 1.1.9 2 2 2h14c1.1 0 2-.9 2-2V5c0-1.1-.9-2-2-2zM9 17H7v-7h2v7zm4 0h-2V7h2v10zm4 0h-2v-4h2v4z\"/>\n",
              "    </g>\n",
              "</svg>\n",
              "      </button>\n",
              "\n",
              "<style>\n",
              "  .colab-df-quickchart {\n",
              "      --bg-color: #E8F0FE;\n",
              "      --fill-color: #1967D2;\n",
              "      --hover-bg-color: #E2EBFA;\n",
              "      --hover-fill-color: #174EA6;\n",
              "      --disabled-fill-color: #AAA;\n",
              "      --disabled-bg-color: #DDD;\n",
              "  }\n",
              "\n",
              "  [theme=dark] .colab-df-quickchart {\n",
              "      --bg-color: #3B4455;\n",
              "      --fill-color: #D2E3FC;\n",
              "      --hover-bg-color: #434B5C;\n",
              "      --hover-fill-color: #FFFFFF;\n",
              "      --disabled-bg-color: #3B4455;\n",
              "      --disabled-fill-color: #666;\n",
              "  }\n",
              "\n",
              "  .colab-df-quickchart {\n",
              "    background-color: var(--bg-color);\n",
              "    border: none;\n",
              "    border-radius: 50%;\n",
              "    cursor: pointer;\n",
              "    display: none;\n",
              "    fill: var(--fill-color);\n",
              "    height: 32px;\n",
              "    padding: 0;\n",
              "    width: 32px;\n",
              "  }\n",
              "\n",
              "  .colab-df-quickchart:hover {\n",
              "    background-color: var(--hover-bg-color);\n",
              "    box-shadow: 0 1px 2px rgba(60, 64, 67, 0.3), 0 1px 3px 1px rgba(60, 64, 67, 0.15);\n",
              "    fill: var(--button-hover-fill-color);\n",
              "  }\n",
              "\n",
              "  .colab-df-quickchart-complete:disabled,\n",
              "  .colab-df-quickchart-complete:disabled:hover {\n",
              "    background-color: var(--disabled-bg-color);\n",
              "    fill: var(--disabled-fill-color);\n",
              "    box-shadow: none;\n",
              "  }\n",
              "\n",
              "  .colab-df-spinner {\n",
              "    border: 2px solid var(--fill-color);\n",
              "    border-color: transparent;\n",
              "    border-bottom-color: var(--fill-color);\n",
              "    animation:\n",
              "      spin 1s steps(1) infinite;\n",
              "  }\n",
              "\n",
              "  @keyframes spin {\n",
              "    0% {\n",
              "      border-color: transparent;\n",
              "      border-bottom-color: var(--fill-color);\n",
              "      border-left-color: var(--fill-color);\n",
              "    }\n",
              "    20% {\n",
              "      border-color: transparent;\n",
              "      border-left-color: var(--fill-color);\n",
              "      border-top-color: var(--fill-color);\n",
              "    }\n",
              "    30% {\n",
              "      border-color: transparent;\n",
              "      border-left-color: var(--fill-color);\n",
              "      border-top-color: var(--fill-color);\n",
              "      border-right-color: var(--fill-color);\n",
              "    }\n",
              "    40% {\n",
              "      border-color: transparent;\n",
              "      border-right-color: var(--fill-color);\n",
              "      border-top-color: var(--fill-color);\n",
              "    }\n",
              "    60% {\n",
              "      border-color: transparent;\n",
              "      border-right-color: var(--fill-color);\n",
              "    }\n",
              "    80% {\n",
              "      border-color: transparent;\n",
              "      border-right-color: var(--fill-color);\n",
              "      border-bottom-color: var(--fill-color);\n",
              "    }\n",
              "    90% {\n",
              "      border-color: transparent;\n",
              "      border-bottom-color: var(--fill-color);\n",
              "    }\n",
              "  }\n",
              "</style>\n",
              "\n",
              "      <script>\n",
              "        async function quickchart(key) {\n",
              "          const quickchartButtonEl =\n",
              "            document.querySelector('#' + key + ' button');\n",
              "          quickchartButtonEl.disabled = true;  // To prevent multiple clicks.\n",
              "          quickchartButtonEl.classList.add('colab-df-spinner');\n",
              "          try {\n",
              "            const charts = await google.colab.kernel.invokeFunction(\n",
              "                'suggestCharts', [key], {});\n",
              "          } catch (error) {\n",
              "            console.error('Error during call to suggestCharts:', error);\n",
              "          }\n",
              "          quickchartButtonEl.classList.remove('colab-df-spinner');\n",
              "          quickchartButtonEl.classList.add('colab-df-quickchart-complete');\n",
              "        }\n",
              "        (() => {\n",
              "          let quickchartButtonEl =\n",
              "            document.querySelector('#df-b3ebc1c8-ad5d-42c1-85e6-a868859190af button');\n",
              "          quickchartButtonEl.style.display =\n",
              "            google.colab.kernel.accessAllowed ? 'block' : 'none';\n",
              "        })();\n",
              "      </script>\n",
              "    </div>\n",
              "\n",
              "    </div>\n",
              "  </div>\n"
            ],
            "application/vnd.google.colaboratory.intrinsic+json": {
              "type": "dataframe",
              "variable_name": "df"
            }
          },
          "metadata": {},
          "execution_count": 5
        }
      ]
    },
    {
      "cell_type": "code",
      "source": [
        "colunas_remover = [\"customerID\"]\n",
        "df = df.drop(columns=colunas_remover, errors=\"ignore\")"
      ],
      "metadata": {
        "id": "3w1Sv9kRYLaV"
      },
      "execution_count": 6,
      "outputs": []
    },
    {
      "cell_type": "code",
      "source": [
        "df_encoded = pd.get_dummies(df, drop_first=True)"
      ],
      "metadata": {
        "id": "kZfujLVaYLc0"
      },
      "execution_count": 7,
      "outputs": []
    },
    {
      "cell_type": "code",
      "source": [
        "taxa_evasao = df[\"Evasao\"].value_counts(normalize=True)\n",
        "print(\"Proporção das classes (%):\\n\", taxa_evasao * 100)"
      ],
      "metadata": {
        "colab": {
          "base_uri": "https://localhost:8080/"
        },
        "id": "qkRPfD5XY2HF",
        "outputId": "d7c5b39f-9da1-4114-f6c4-854cf7077a81"
      },
      "execution_count": 8,
      "outputs": [
        {
          "output_type": "stream",
          "name": "stdout",
          "text": [
            "Proporção das classes (%):\n",
            " Series([], Name: proportion, dtype: float64)\n"
          ]
        }
      ]
    },
    {
      "cell_type": "code",
      "source": [
        "from sklearn.preprocessing import StandardScaler"
      ],
      "metadata": {
        "id": "nyHMgWR4Y2J8"
      },
      "execution_count": 9,
      "outputs": []
    },
    {
      "cell_type": "code",
      "source": [
        "X = df_encoded.drop(columns=[\"Evasao\"])\n",
        "y = df_encoded[\"Evasao\"]"
      ],
      "metadata": {
        "id": "QmiyoRQXYLfG"
      },
      "execution_count": 10,
      "outputs": []
    },
    {
      "cell_type": "code",
      "source": [
        "scaler = StandardScaler()\n",
        "X_scaled = scaler.fit_transform(X)\n",
        "\n",
        "print(\"Preparação finalizada! Dados prontos para modelagem.\")"
      ],
      "metadata": {
        "colab": {
          "base_uri": "https://localhost:8080/"
        },
        "id": "KvweWFLMZjM0",
        "outputId": "a472f83c-57b1-48c5-e355-42e96e7db0d2"
      },
      "execution_count": 11,
      "outputs": [
        {
          "output_type": "stream",
          "name": "stderr",
          "text": [
            "/usr/local/lib/python3.11/dist-packages/sklearn/utils/extmath.py:1101: RuntimeWarning: invalid value encountered in divide\n",
            "  updated_mean = (last_sum + new_sum) / updated_sample_count\n",
            "/usr/local/lib/python3.11/dist-packages/sklearn/utils/extmath.py:1106: RuntimeWarning: invalid value encountered in divide\n",
            "  T = new_sum / new_sample_count\n",
            "/usr/local/lib/python3.11/dist-packages/sklearn/utils/extmath.py:1126: RuntimeWarning: invalid value encountered in divide\n",
            "  new_unnormalized_variance -= correction**2 / new_sample_count\n"
          ]
        },
        {
          "output_type": "stream",
          "name": "stdout",
          "text": [
            "Preparação finalizada! Dados prontos para modelagem.\n"
          ]
        }
      ]
    },
    {
      "cell_type": "markdown",
      "source": [
        "# Correlação e Seleção de Variáveis"
      ],
      "metadata": {
        "id": "CqnAKsfpZ23M"
      }
    },
    {
      "cell_type": "code",
      "source": [
        "import matplotlib.pyplot as plt\n",
        "import seaborn as sns"
      ],
      "metadata": {
        "id": "rfcWMOV-c9n-"
      },
      "execution_count": 12,
      "outputs": []
    },
    {
      "cell_type": "code",
      "source": [
        "plt.figure(figsize=(12, 8))\n",
        "corr = df_encoded.corr()\n",
        "sns.heatmap(corr, annot=True, cmap='coolwarm')\n",
        "plt.title('Matriz de Correlação - df_encoded')\n",
        "plt.show()"
      ],
      "metadata": {
        "id": "8aejvIWgc9qT"
      },
      "execution_count": null,
      "outputs": []
    },
    {
      "cell_type": "code",
      "source": [
        "print(\"Correlação das variáveis com Evasao:\")\n",
        "print(corr[\"Evasao\"].sort_values(ascending=False))"
      ],
      "metadata": {
        "id": "i2Dr6pNCc9s5"
      },
      "execution_count": null,
      "outputs": []
    },
    {
      "cell_type": "code",
      "source": [
        "plt.figure(figsize=(8, 6))\n",
        "sns.boxplot(x='Evasao', y='TempoContrato', data=df)\n",
        "plt.title('Tempo de Contrato vs Evasão')\n",
        "plt.show()"
      ],
      "metadata": {
        "id": "9qbNG8U9c9vG"
      },
      "execution_count": null,
      "outputs": []
    },
    {
      "cell_type": "code",
      "source": [
        "plt.figure(figsize=(8, 6))\n",
        "sns.boxplot(x='Evasao', y='TotalGasto', data=df)\n",
        "plt.title('Total Gasto vs Evasão')\n",
        "plt.show()"
      ],
      "metadata": {
        "id": "err-KHd2c9xO"
      },
      "execution_count": null,
      "outputs": []
    },
    {
      "cell_type": "code",
      "source": [
        "plt.figure(figsize=(8, 6))\n",
        "sns.scatterplot(x='TotalGasto', y='TempoContrato', hue='Evasao', data=df)\n",
        "plt.title('Dispersão: Total Gasto × Tempo de Contrato com Evasão')\n",
        "plt.show()"
      ],
      "metadata": {
        "id": "K6I-p4QAc9zU"
      },
      "execution_count": null,
      "outputs": []
    },
    {
      "cell_type": "markdown",
      "source": [
        "# Modelagem Preditiva"
      ],
      "metadata": {
        "id": "JsO4DcQEdsQH"
      }
    },
    {
      "cell_type": "code",
      "source": [
        "from sklearn.model_selection import train_test_split\n",
        "from sklearn.linear_model import LogisticRegression\n",
        "from sklearn.ensemble import RandomForestClassifier\n",
        "from sklearn.preprocessing import StandardScaler\n",
        "from sklearn.metrics import accuracy_score, precision_score, recall_score, f1_score, confusion_matrix, classification_report\n",
        "import matplotlib.pyplot as plt\n",
        "import seaborn as sns\n",
        "import numpy as np"
      ],
      "metadata": {
        "id": "T0mB7nwfdzDw"
      },
      "execution_count": null,
      "outputs": []
    },
    {
      "cell_type": "code",
      "source": [
        "X = df_encoded.drop(columns=[\"Evasao\"])\n",
        "y = df_encoded[\"Evasao\"]"
      ],
      "metadata": {
        "id": "xU7dbhlCdzKL"
      },
      "execution_count": null,
      "outputs": []
    },
    {
      "cell_type": "code",
      "source": [
        "X_train, X_test, y_train, y_test = train_test_split(\n",
        "    X, y, test_size=0.3, random_state=42, stratify=y\n",
        ")"
      ],
      "metadata": {
        "id": "6QZwyBWre1sS"
      },
      "execution_count": null,
      "outputs": []
    },
    {
      "cell_type": "code",
      "source": [
        "scaler = StandardScaler()\n",
        "X_train_scaled = scaler.fit_transform(X_train)\n",
        "X_test_scaled = scaler.transform(X_test)\n",
        "\n",
        "model_logreg = LogisticRegression(random_state=42, max_iter=1000)\n",
        "model_logreg.fit(X_train_scaled, y_train)"
      ],
      "metadata": {
        "id": "V-PssZJqe1w8"
      },
      "execution_count": null,
      "outputs": []
    },
    {
      "cell_type": "code",
      "source": [
        "def avalia_modelo(model, X_teste, y_teste, nome_modelo):\n",
        "    y_pred = model.predict(X_teste)\n",
        "    acc = accuracy_score(y_teste, y_pred)\n",
        "    prec = precision_score(y_teste, y_pred)\n",
        "    rec = recall_score(y_teste, y_pred)\n",
        "    f1 = f1_score(y_teste, y_pred)\n",
        "    cm = confusion_matrix(y_teste, y_pred)\n",
        "\n",
        "    print(f\"--- {nome_modelo} ---\")\n",
        "    print(f\"Acurácia: {acc:.4f}\")\n",
        "    print(f\"Precisão: {prec:.4f}\")\n",
        "    print(f\"Recall: {rec:.4f}\")\n",
        "    print(f\"F1-Score: {f1:.4f}\")\n",
        "    print(\"Matriz de Confusão:\")\n",
        "    print(cm)\n",
        "\n",
        "    plt.figure(figsize=(5,4))\n",
        "    sns.heatmap(cm, annot=True, fmt='d', cmap='Blues')\n",
        "    plt.title(f'Matriz de Confusão - {nome_modelo}')\n",
        "    plt.ylabel('Valor Real')\n",
        "    plt.xlabel('Predito')\n",
        "    plt.show()\n",
        "\n",
        "    print(\"\\nRelatório Completo:\")\n",
        "    print(classification_report(y_teste, y_pred))\n",
        "    print(\"\\n\")\n"
      ],
      "metadata": {
        "id": "is1JXdbrdzPw"
      },
      "execution_count": null,
      "outputs": []
    },
    {
      "cell_type": "code",
      "source": [
        "avalia_modelo(model_logreg, X_test_scaled, y_test, \"Regressão Logística\")\n",
        "avalia_modelo(model_rf, X_test, y_test, \"Random Forest\")"
      ],
      "metadata": {
        "id": "gaE9kgSzdzSB"
      },
      "execution_count": null,
      "outputs": []
    },
    {
      "cell_type": "code",
      "source": [
        "print(\"Análise crítica:\\n\")\n",
        "print(\"\"\"\n",
        "- A Regressão Logística exigiu normalização porque ela usa distância e magnitudes nas variáveis para calcular probabilidades e coeficientes. Sem a normalização, variáveis com escalas maiores dominariam o modelo.\n",
        "\n",
        "- O Random Forest é baseado em árvores de decisão, que dividem os dados com base em regras de valores, portanto não depende da escala dos dados e não precisa de normalização.\n",
        "\n",
        "- Comparando os resultados, observe qual modelo teve melhor equilíbrio entre acurácia, precisão, recall e F1-score.\n",
        "\n",
        "- Verifique a matriz de confusão para entender se algum modelo está tendo muitos falsos positivos ou falsos negativos.\n",
        "\n",
        "- Se um modelo tem desempenho muito bom no treino mas ruim no teste, pode estar com overfitting. Se desempenho ruim em ambos, pode estar underfitting.\n",
        "\n",
        "- Ajustes podem incluir mudar hiperparâmetros, fazer seleção de variáveis, ou aumentar a base de dados.\n",
        "\"\"\")"
      ],
      "metadata": {
        "id": "xEPXYvPRdzUI"
      },
      "execution_count": null,
      "outputs": []
    },
    {
      "cell_type": "markdown",
      "source": [
        "# Interpretação e Conclusões"
      ],
      "metadata": {
        "id": "HxEemzZGfPwc"
      }
    },
    {
      "cell_type": "code",
      "source": [
        "import pandas as pd\n",
        "import numpy as np"
      ],
      "metadata": {
        "id": "BD_Lz9YvfUGw"
      },
      "execution_count": null,
      "outputs": []
    },
    {
      "cell_type": "code",
      "source": [
        "coeficientes = pd.Series(model_logreg.coef_[0], index=X.columns)\n",
        "coeficientes_sorted = coeficientes.sort_values(key=abs, ascending=False)\n",
        "\n",
        "print(\"Coeficientes da Regressão Logística (ordenados pelo valor absoluto):\")\n",
        "print(coeficientes_sorted.head(10))"
      ],
      "metadata": {
        "id": "QbLjdJC9fUJJ"
      },
      "execution_count": null,
      "outputs": []
    },
    {
      "cell_type": "code",
      "source": [
        "plt.figure(figsize=(10,6))\n",
        "coeficientes_sorted.head(10).plot(kind='barh', color='steelblue')\n",
        "plt.title('Top 10 Variáveis mais Impactantes - Regressão Logística')\n",
        "plt.xlabel('Coeficiente')\n",
        "plt.gca().invert_yaxis()\n",
        "plt.show()"
      ],
      "metadata": {
        "id": "70wCPSJpfUL_"
      },
      "execution_count": null,
      "outputs": []
    },
    {
      "cell_type": "code",
      "source": [
        "importances = pd.Series(model_rf.feature_importances_, index=X.columns)\n",
        "importances_sorted = importances.sort_values(ascending=False)\n",
        "\n",
        "print(\"Importância das variáveis pelo Random Forest:\")\n",
        "print(importances_sorted.head(10))\n",
        "\n",
        "plt.figure(figsize=(10,6))\n",
        "importances_sorted.head(10).plot(kind='barh', color='darkorange')\n",
        "plt.title('Top 10 Variáveis mais Importantes - Random Forest')\n",
        "plt.xlabel('Importância')\n",
        "plt.gca().invert_yaxis()\n",
        "plt.show()"
      ],
      "metadata": {
        "id": "vYdeioG1fUOi"
      },
      "execution_count": null,
      "outputs": []
    },
    {
      "cell_type": "code",
      "source": [
        "relatorio = \"\"\"\n",
        "Com base na análise dos dois modelos, observamos as variáveis que mais influenciam a evasão de clientes.\n",
        "\n",
        "- Variáveis com coeficientes maiores na Regressão Logística indicam um aumento ou redução na probabilidade de evasão conforme seus valores aumentam.\n",
        "\n",
        "- As variáveis mais importantes no Random Forest mostram onde o modelo encontra maior ganho ao fazer as divisões para separar clientes que evadem dos que permanecem.\n",
        "\n",
        "Principais fatores identificados (exemplo, substitua pelos seus resultados reais):\n",
        "\n",
        "- Tempo de contrato curto está relacionado a maior evasão.\n",
        "- Clientes com altos custos totais tendem a evadir mais.\n",
        "- Serviços específicos (ex: Internet, Streaming) podem impactar positivamente ou negativamente.\n",
        "- Planos com múltiplas assinaturas adicionais mostram relação com evasão.\n",
        "\n",
        "**Estratégias de retenção sugeridas:**\n",
        "\n",
        "- Oferecer planos com contratos mínimos mais longos ou descontos para fidelização.\n",
        "- Monitorar clientes com altos custos e oferecer pacotes personalizados.\n",
        "- Avaliar os serviços que mais impactam a satisfação e promover melhorias.\n",
        "- Campanhas direcionadas para grupos de risco identificados pelas variáveis relevantes.\n",
        "\n",
        "Essa análise orienta ações estratégicas para reduzir a evasão, aumentando a retenção e o valor do cliente ao longo do tempo.\n",
        "\"\"\"\n",
        "\n",
        "print(relatorio)"
      ],
      "metadata": {
        "id": "AAuwWXxAfURE"
      },
      "execution_count": null,
      "outputs": []
    }
  ]
}